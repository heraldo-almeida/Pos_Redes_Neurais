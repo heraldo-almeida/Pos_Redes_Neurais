{
  "cells": [
    {
      "cell_type": "markdown",
      "metadata": {
        "id": "5yQgzdjbf9RT"
      },
      "source": [
        "# Regressão Linear com NumPy"
      ]
    },
    {
      "cell_type": "markdown",
      "metadata": {
        "heading_collapsed": true,
        "id": "p5HfrYM3f9RU"
      },
      "source": [
        "## Objetivos deste experimento"
      ]
    },
    {
      "cell_type": "markdown",
      "metadata": {
        "hidden": true,
        "id": "IIYC2db7f9RW"
      },
      "source": [
        "Este exemplo utiliza regressão linear para estimar o comprimento das sépalas da íris a partir do seu comprimento das pétalas.\n",
        "Utiliza-se programação totalmente NumPy com:\n",
        "- o **cálculo do gradiente**,\n",
        "- a **função de perda** e\n",
        "- a atualização dos parâmetros são feitos de forma explícita.\n",
        "- A rede é criada com uma camada como uma classe"
      ]
    },
    {
      "cell_type": "markdown",
      "metadata": {
        "hidden": true,
        "id": "ImJOZIiNf9RW"
      },
      "source": [
        "![alt text](https://raw.githubusercontent.com/vcasadei/images/master/RegressaoLinear_Otimizacao.png)"
      ]
    },
    {
      "cell_type": "markdown",
      "metadata": {
        "heading_collapsed": true,
        "id": "EeTHWCuMf9RX"
      },
      "source": [
        "## Importação dos pacotes"
      ]
    },
    {
      "cell_type": "code",
      "execution_count": 1,
      "metadata": {
        "ExecuteTime": {
          "end_time": "2017-10-08T11:19:38.728936Z",
          "start_time": "2017-10-08T11:19:36.888541Z"
        },
        "hidden": true,
        "id": "5yPytaCLf9RY"
      },
      "outputs": [],
      "source": [
        "%matplotlib inline\n",
        "import matplotlib.pyplot as plt   # para plotting\n",
        "\n",
        "from sklearn.datasets import load_iris  # para carregar dataset\n",
        "\n",
        "import numpy as np  # processamento matricial\n",
        "\n",
        "np.random.seed(1234)"
      ]
    },
    {
      "cell_type": "markdown",
      "metadata": {
        "heading_collapsed": true,
        "id": "wDkSLSnmf9Rc"
      },
      "source": [
        "## Dataset"
      ]
    },
    {
      "cell_type": "markdown",
      "metadata": {
        "heading_collapsed": true,
        "hidden": true,
        "id": "ldcOnrBvf9Rd"
      },
      "source": [
        "### Leitura dos dados"
      ]
    },
    {
      "cell_type": "code",
      "execution_count": 2,
      "metadata": {
        "ExecuteTime": {
          "end_time": "2017-10-08T11:19:38.747769Z",
          "start_time": "2017-10-08T11:19:38.730907Z"
        },
        "colab": {
          "base_uri": "https://localhost:8080/"
        },
        "hidden": true,
        "id": "l3t1qaa0f9Re",
        "outputId": "ed513117-b1c9-489e-b4d4-cab51056212e"
      },
      "outputs": [
        {
          "output_type": "stream",
          "name": "stdout",
          "text": [
            "x_train.shape: (50, 1) float64\n",
            "y_train.shape: (50, 1) float64\n",
            "x_train[:5]:\n",
            " [[7. ]\n",
            " [6.4]\n",
            " [6.9]\n",
            " [5.5]\n",
            " [6.5]]\n",
            "y_train[:5]:\n",
            " [[4.7]\n",
            " [4.5]\n",
            " [4.9]\n",
            " [4. ]\n",
            " [4.6]]\n"
          ]
        }
      ],
      "source": [
        "iris = load_iris()\n",
        "data = iris.data[iris.target==1,::2]  # comprimento das sépalas e pétalas, indices 0 e 2\n",
        "\n",
        "x_train = data[:,0:1]\n",
        "y_train = data[:,1:2]\n",
        "\n",
        "n_samples = x_train.shape[0]\n",
        "print('x_train.shape:',x_train.shape, x_train.dtype)\n",
        "print('y_train.shape:',y_train.shape, y_train.dtype)\n",
        "\n",
        "print('x_train[:5]:\\n', x_train[:5])\n",
        "print('y_train[:5]:\\n', y_train[:5])"
      ]
    },
    {
      "cell_type": "markdown",
      "metadata": {
        "hidden": true,
        "id": "aPQ-L6FVf9Rk"
      },
      "source": [
        "### Normalização dos dados"
      ]
    },
    {
      "cell_type": "code",
      "execution_count": 3,
      "metadata": {
        "ExecuteTime": {
          "end_time": "2017-10-08T11:19:38.756343Z",
          "start_time": "2017-10-08T11:19:38.750395Z"
        },
        "hidden": true,
        "id": "POM323GEf9Rl"
      },
      "outputs": [],
      "source": [
        "x_train -= x_train.min()\n",
        "x_train /= x_train.max()\n",
        "y_train -= y_train.min()\n",
        "y_train /= y_train.max()"
      ]
    },
    {
      "cell_type": "code",
      "execution_count": 4,
      "metadata": {
        "ExecuteTime": {
          "end_time": "2017-10-08T11:19:39.127199Z",
          "start_time": "2017-10-08T11:19:38.759104Z"
        },
        "colab": {
          "base_uri": "https://localhost:8080/",
          "height": 466
        },
        "hidden": true,
        "id": "dx5AO9Qxf9Rn",
        "outputId": "f0eedf2f-f364-48ab-e207-854b3393fa32"
      },
      "outputs": [
        {
          "output_type": "execute_result",
          "data": {
            "text/plain": [
              "Text(0, 0.5, 'Comprimento petalas')"
            ]
          },
          "metadata": {},
          "execution_count": 4
        },
        {
          "output_type": "display_data",
          "data": {
            "text/plain": [
              "<Figure size 640x480 with 1 Axes>"
            ],
            "image/png": "[encoded data removed]"
          },
          "metadata": {}
        }
      ],
      "source": [
        "plt.scatter(x_train,y_train)\n",
        "plt.xlabel('Comprimento sepalas')\n",
        "plt.ylabel('Comprimento petalas')"
      ]
    },
    {
      "cell_type": "markdown",
      "metadata": {
        "heading_collapsed": true,
        "id": "poW81teqf9Rr"
      },
      "source": [
        "## Modelo da rede"
      ]
    },
    {
      "cell_type": "markdown",
      "metadata": {
        "hidden": true,
        "id": "QXFLlJ0_f9Rt"
      },
      "source": [
        "### Reta de ajuste"
      ]
    },
    {
      "cell_type": "markdown",
      "metadata": {
        "hidden": true,
        "id": "s7JuPXysf9Rt"
      },
      "source": [
        "A equação da reta no plano necessita de dois parâmetros, aqui denominados $w_0$ (*bias*) e inclinação $w_1$. Veja figura:\n",
        "\n",
        "![alt text](https://raw.githubusercontent.com/vcasadei/images/master/linhareta.png)\n",
        "\n",
        "A reta de ajuste será dada por:\n",
        "\n",
        "$$ \\hat{y} = w_0 + w_1 x $$\n",
        "\n",
        "onde\n",
        "* $w_1$ é o coeficiente angular da reta e\n",
        "* $w_0$ é a interseção do eixo vertical quando x é igual a zero, também denominado de *bias*.\n",
        "* $x$ é a variável de entrada (comprimento das sépalas) e\n",
        "* $\\hat{y}$ é a predição (comprimento estimado das pétalas)."
      ]
    },
    {
      "cell_type": "markdown",
      "metadata": {
        "hidden": true,
        "id": "hwin_xPff9Ru"
      },
      "source": [
        "### Linear Regression Model"
      ]
    },
    {
      "cell_type": "markdown",
      "metadata": {
        "hidden": true,
        "id": "c7ilOLnkf9Rw"
      },
      "source": [
        "![alt text](https://raw.githubusercontent.com/vcasadei/images/master/RegressaoLinearNeuronio.png)"
      ]
    },
    {
      "cell_type": "markdown",
      "metadata": {
        "hidden": true,
        "id": "H0CzMB91f9Rx"
      },
      "source": [
        "### Formulação matricial do neurônio"
      ]
    },
    {
      "cell_type": "markdown",
      "metadata": {
        "hidden": true,
        "id": "-wWz_wpYf9Ry"
      },
      "source": [
        "* $\\mathbf{w} = [w_0 \\ w_1]$ é vetor linha de parâmetros e\n",
        "* $\\mathbf{x} = [1 \\ x_0] $ é vetor linha de uma amostra (com *bias*).\n",
        "\n",
        "$$ \\hat{y} = 1 w_0 + x_0 w_1 $$\n",
        "\n",
        "$$ [\\hat{y}] = [1 \\ x_0] \\begin{bmatrix} w_0 \\\\ w_1 \\end{bmatrix} $$\n",
        "\n",
        "$$ \\mathbf{\\hat{y}} = \\mathbf{x} \\mathbf{w^T} $$"
      ]
    },
    {
      "cell_type": "markdown",
      "metadata": {
        "hidden": true,
        "id": "rQ1lc-dYf9Rz"
      },
      "source": [
        "### Fazendo o predict de várias amostras"
      ]
    },
    {
      "cell_type": "markdown",
      "metadata": {
        "hidden": true,
        "id": "fh068Clrf9R0"
      },
      "source": [
        "$$ \\begin{matrix}\n",
        "\\begin{bmatrix}\n",
        "\\hat{y}_0\\\\\n",
        "\\hat{y}_1\\\\\n",
        "\\\\\n",
        "\\hat{y}_{M-1}\n",
        "\\end{bmatrix} &=& \\begin{bmatrix}\n",
        "1 & x_0 \\\\\n",
        "1 & x_1\\\\\n",
        "\\\\\n",
        "1 & x_{M-1} \\\\\n",
        "\\end{bmatrix}\n",
        "&\n",
        "\\begin{bmatrix}\n",
        "w_0\\\\\n",
        "w_1\n",
        "\\end{bmatrix} \\\\\n",
        "(M,1) & & (M,2) & (2,1) \\\\\n",
        "\\end{matrix} $$"
      ]
    },
    {
      "cell_type": "markdown",
      "metadata": {
        "hidden": true,
        "id": "jjSchAsZf9R2"
      },
      "source": [
        "### Preenchendo x com coluna de 1's para bias"
      ]
    },
    {
      "cell_type": "code",
      "execution_count": 5,
      "metadata": {
        "ExecuteTime": {
          "end_time": "2017-10-08T11:19:39.135089Z",
          "start_time": "2017-10-08T11:19:39.129385Z"
        },
        "hidden": true,
        "id": "plZEY5-tf9R2"
      },
      "outputs": [],
      "source": [
        "x_train_bias = np.hstack([np.ones(shape=(n_samples,1)), x_train])"
      ]
    },
    {
      "cell_type": "code",
      "execution_count": 6,
      "metadata": {
        "colab": {
          "base_uri": "https://localhost:8080/"
        },
        "id": "tXYx3JdMf9R6",
        "outputId": "29cf1d39-5fed-4e3d-a6bb-3f27ce218ca7"
      },
      "outputs": [
        {
          "output_type": "execute_result",
          "data": {
            "text/plain": [
              "array([[1.        , 1.        ],\n",
              "       [1.        , 0.71428571],\n",
              "       [1.        , 0.95238095],\n",
              "       [1.        , 0.28571429],\n",
              "       [1.        , 0.76190476],\n",
              "       [1.        , 0.38095238],\n",
              "       [1.        , 0.66666667],\n",
              "       [1.        , 0.        ],\n",
              "       [1.        , 0.80952381],\n",
              "       [1.        , 0.14285714],\n",
              "       [1.        , 0.04761905],\n",
              "       [1.        , 0.47619048],\n",
              "       [1.        , 0.52380952],\n",
              "       [1.        , 0.57142857],\n",
              "       [1.        , 0.33333333],\n",
              "       [1.        , 0.85714286],\n",
              "       [1.        , 0.33333333],\n",
              "       [1.        , 0.42857143],\n",
              "       [1.        , 0.61904762],\n",
              "       [1.        , 0.33333333],\n",
              "       [1.        , 0.47619048],\n",
              "       [1.        , 0.57142857],\n",
              "       [1.        , 0.66666667],\n",
              "       [1.        , 0.57142857],\n",
              "       [1.        , 0.71428571],\n",
              "       [1.        , 0.80952381],\n",
              "       [1.        , 0.9047619 ],\n",
              "       [1.        , 0.85714286],\n",
              "       [1.        , 0.52380952],\n",
              "       [1.        , 0.38095238],\n",
              "       [1.        , 0.28571429],\n",
              "       [1.        , 0.28571429],\n",
              "       [1.        , 0.42857143],\n",
              "       [1.        , 0.52380952],\n",
              "       [1.        , 0.23809524],\n",
              "       [1.        , 0.52380952],\n",
              "       [1.        , 0.85714286],\n",
              "       [1.        , 0.66666667],\n",
              "       [1.        , 0.33333333],\n",
              "       [1.        , 0.28571429],\n",
              "       [1.        , 0.28571429],\n",
              "       [1.        , 0.57142857],\n",
              "       [1.        , 0.42857143],\n",
              "       [1.        , 0.04761905],\n",
              "       [1.        , 0.33333333],\n",
              "       [1.        , 0.38095238],\n",
              "       [1.        , 0.38095238],\n",
              "       [1.        , 0.61904762],\n",
              "       [1.        , 0.0952381 ],\n",
              "       [1.        , 0.38095238]])"
            ]
          },
          "metadata": {},
          "execution_count": 6
        }
      ],
      "source": [
        "x_train_bias"
      ]
    },
    {
      "cell_type": "markdown",
      "metadata": {
        "hidden": true,
        "id": "GOtS_8OSf9SC"
      },
      "source": [
        "### Classe com o modelo da rede"
      ]
    },
    {
      "cell_type": "code",
      "execution_count": 19,
      "metadata": {
        "ExecuteTime": {
          "end_time": "2017-10-08T11:19:39.143879Z",
          "start_time": "2017-10-08T11:19:39.137134Z"
        },
        "hidden": true,
        "id": "aKLVIQUtf9SD"
      },
      "outputs": [],
      "source": [
        "class Net():\n",
        "    def __init__(self, n_in, n_out):\n",
        "        self.w = np.random.uniform(-0.1,0.1,(n_out,n_in)) #inicialização dos parâmetros\n",
        "\n",
        "    def forward(self, x_bias):\n",
        "        return x_bias.dot(self.w.T)"
      ]
    },
    {
      "cell_type": "markdown",
      "metadata": {
        "hidden": true,
        "id": "0j0hN9l_f9SH"
      },
      "source": [
        "### Criando a rede, instanciando o objeto model"
      ]
    },
    {
      "cell_type": "code",
      "execution_count": 20,
      "metadata": {
        "ExecuteTime": {
          "end_time": "2017-10-08T11:19:39.151717Z",
          "start_time": "2017-10-08T11:19:39.146858Z"
        },
        "hidden": true,
        "id": "5o5Zkqn5f9SI"
      },
      "outputs": [],
      "source": [
        "model = Net(2,1) # duas entradas (1 + x0) e uma saída y_pred"
      ]
    },
    {
      "cell_type": "markdown",
      "metadata": {
        "hidden": true,
        "id": "F3yolUOGf9SL"
      },
      "source": [
        "### Testando o predict da rede (mesmo sem treiná-la)"
      ]
    },
    {
      "cell_type": "code",
      "execution_count": 9,
      "metadata": {
        "ExecuteTime": {
          "end_time": "2017-10-08T11:19:39.162189Z",
          "start_time": "2017-10-08T11:19:39.156018Z"
        },
        "colab": {
          "base_uri": "https://localhost:8080/"
        },
        "hidden": true,
        "id": "BzkEurfof9SN",
        "outputId": "16a065fe-4e13-4767-8886-b2618e02e40d"
      },
      "outputs": [
        {
          "output_type": "execute_result",
          "data": {
            "text/plain": [
              "array([[-0.09602795],\n",
              "       [ 0.0661236 ],\n",
              "       [-0.06857828],\n",
              "       [-0.05573871]])"
            ]
          },
          "metadata": {},
          "execution_count": 9
        }
      ],
      "source": [
        "xin = np.random.randn(4,2) # 4 amostras, 2 entradas (1 + x0)\n",
        "ypred = model.forward(xin)\n",
        "ypred"
      ]
    },
    {
      "cell_type": "markdown",
      "metadata": {
        "heading_collapsed": true,
        "id": "edoSiy--f9SS"
      },
      "source": [
        "## Treinamento via gradiente descendente"
      ]
    },
    {
      "cell_type": "markdown",
      "metadata": {
        "hidden": true,
        "id": "SnkXXFref9ST"
      },
      "source": [
        "Função de perda:\n",
        "$$ J(\\hat{y_i},y_i) = \\frac{1}{M} \\sum_{i=0}^{M-1} (\\hat{y_i} - y_i)^2 $$"
      ]
    },
    {
      "cell_type": "markdown",
      "metadata": {
        "ExecuteTime": {
          "end_time": "2017-10-05T14:05:06.244776",
          "start_time": "2017-10-05T14:05:06.240743"
        },
        "hidden": true,
        "id": "6W5QcPwUf9SU"
      },
      "source": [
        "Gradiente:\n",
        "$$  \\mathbf{\\nabla{J_w}} = \\frac{2}{M}\\mathbf{x^T}(\\mathbf{x w^T} - \\mathbf{y}) $$"
      ]
    },
    {
      "cell_type": "markdown",
      "metadata": {
        "ExecuteTime": {
          "end_time": "2017-10-05T14:06:17.929718",
          "start_time": "2017-10-05T14:06:17.925519"
        },
        "hidden": true,
        "id": "6OoQuuvAf9SU"
      },
      "source": [
        "Atualização dos parâmetros pelo gradiente descendente:\n",
        "$$ \\mathbf{w} = \\mathbf{w} − \\eta (\\mathbf{\\nabla J_w})^T $$"
      ]
    },
    {
      "cell_type": "markdown",
      "metadata": {
        "hidden": true,
        "id": "YM0fEnAdf9SW"
      },
      "source": [
        "### Laço de treinamento"
      ]
    },
    {
      "cell_type": "code",
      "execution_count": 21,
      "metadata": {
        "ExecuteTime": {
          "end_time": "2017-10-08T11:19:39.183784Z",
          "start_time": "2017-10-08T11:19:39.165347Z"
        },
        "colab": {
          "base_uri": "https://localhost:8080/"
        },
        "hidden": true,
        "id": "BiCGgqp6f9SX",
        "outputId": "04939159-b34d-4c95-da37-a68b3c825623",
        "scrolled": false
      },
      "outputs": [
        {
          "output_type": "stream",
          "name": "stdout",
          "text": [
            "[[-1.08464163]\n",
            " [-0.61134045]]\n",
            "[[0.5790134  0.34821063]]\n",
            "Epoch[1/100], loss: 0.339831\n",
            "[[0.30159462]\n",
            " [0.10873189]]\n",
            "[[0.42821609 0.29384468]]\n",
            "Epoch[2/100], loss: 0.050684\n",
            "[[-0.05364107]\n",
            " [-0.07295543]]\n",
            "[[0.45503662 0.3303224 ]]\n",
            "Epoch[3/100], loss: 0.031016\n",
            "[[ 0.03599135]\n",
            " [-0.02441728]]\n",
            "[[0.43704095 0.34253104]]\n",
            "Epoch[4/100], loss: 0.029003\n",
            "[[ 0.01204586]\n",
            " [-0.03478471]]\n",
            "[[0.43101802 0.3599234 ]]\n",
            "Epoch[5/100], loss: 0.028210\n",
            "[[ 0.01716046]\n",
            " [-0.030202  ]]\n",
            "[[0.42243779 0.3750244 ]]\n",
            "Epoch[6/100], loss: 0.027556\n",
            "[[ 0.01489965]\n",
            " [-0.02952915]]\n",
            "[[0.41498796 0.38978898]]\n",
            "Epoch[7/100], loss: 0.026968\n",
            "[[ 0.01456772]\n",
            " [-0.02794457]]\n",
            "[[0.4077041  0.40376126]]\n",
            "Epoch[8/100], loss: 0.026434\n",
            "[[ 0.01378599]\n",
            " [-0.0266757 ]]\n",
            "[[0.40081111 0.41709911]]\n",
            "Epoch[9/100], loss: 0.025949\n",
            "[[ 0.01316001]\n",
            " [-0.02540512]]\n",
            "[[0.3942311  0.42980167]]\n",
            "Epoch[10/100], loss: 0.025509\n",
            "[[ 0.01253319]\n",
            " [-0.02421018]]\n",
            "[[0.38796451 0.44190677]]\n",
            "Epoch[11/100], loss: 0.025109\n",
            "[[ 0.01194369]\n",
            " [-0.02306759]]\n",
            "[[0.38199266 0.45344056]]\n",
            "Epoch[12/100], loss: 0.024746\n",
            "[[ 0.01138001]\n",
            " [-0.0219799 ]]\n",
            "[[0.37630266 0.46443051]]\n",
            "Epoch[13/100], loss: 0.024417\n",
            "[[ 0.01084342]\n",
            " [-0.02094325]]\n",
            "[[0.37088095 0.47490213]]\n",
            "Epoch[14/100], loss: 0.024118\n",
            "[[ 0.010332  ]\n",
            " [-0.01995556]]\n",
            "[[0.36571495 0.48487991]]\n",
            "Epoch[15/100], loss: 0.023846\n",
            "[[ 0.00984474]\n",
            " [-0.01901442]]\n",
            "[[0.36079258 0.49438712]]\n",
            "Epoch[16/100], loss: 0.023600\n",
            "[[ 0.00938045]\n",
            " [-0.01811768]]\n",
            "[[0.35610235 0.50344597]]\n",
            "Epoch[17/100], loss: 0.023376\n",
            "[[ 0.00893806]\n",
            " [-0.01726323]]\n",
            "[[0.35163332 0.51207758]]\n",
            "Epoch[18/100], loss: 0.023173\n",
            "[[ 0.00851653]\n",
            " [-0.01644908]]\n",
            "[[0.34737506 0.52030212]]\n",
            "Epoch[19/100], loss: 0.022988\n",
            "[[ 0.00811488]\n",
            " [-0.01567332]]\n",
            "[[0.34331762 0.52813878]]\n",
            "Epoch[20/100], loss: 0.022821\n",
            "[[ 0.00773217]\n",
            " [-0.01493415]]\n",
            "[[0.33945153 0.53560585]]\n",
            "Epoch[21/100], loss: 0.022669\n",
            "[[ 0.00736751]\n",
            " [-0.01422984]]\n",
            "[[0.33576778 0.54272077]]\n",
            "Epoch[22/100], loss: 0.022531\n",
            "[[ 0.00702005]\n",
            " [-0.01355874]]\n",
            "[[0.33225775 0.54950014]]\n",
            "Epoch[23/100], loss: 0.022405\n",
            "[[ 0.00668898]\n",
            " [-0.01291929]]\n",
            "[[0.32891326 0.55595979]]\n",
            "Epoch[24/100], loss: 0.022291\n",
            "[[ 0.00637352]\n",
            " [-0.01231001]]\n",
            "[[0.3257265  0.56211479]]\n",
            "Epoch[25/100], loss: 0.022188\n",
            "[[ 0.00607294]\n",
            " [-0.01172945]]\n",
            "[[0.32269004 0.56797952]]\n",
            "Epoch[26/100], loss: 0.022094\n",
            "[[ 0.00578653]\n",
            " [-0.01117628]]\n",
            "[[0.31979677 0.57356766]]\n",
            "Epoch[27/100], loss: 0.022009\n",
            "[[ 0.00551363]\n",
            " [-0.01064919]]\n",
            "[[0.31703996 0.57889225]]\n",
            "Epoch[28/100], loss: 0.021932\n",
            "[[ 0.0052536 ]\n",
            " [-0.01014696]]\n",
            "[[0.31441316 0.58396573]]\n",
            "Epoch[29/100], loss: 0.021862\n",
            "[[ 0.00500583]\n",
            " [-0.00966842]]\n",
            "[[0.31191024 0.58879994]]\n",
            "Epoch[30/100], loss: 0.021798\n",
            "[[ 0.00476975]\n",
            " [-0.00921245]]\n",
            "[[0.30952536 0.59340616]]\n",
            "Epoch[31/100], loss: 0.021740\n",
            "[[ 0.00454481]\n",
            " [-0.00877798]]\n",
            "[[0.30725296 0.59779515]]\n",
            "Epoch[32/100], loss: 0.021687\n",
            "[[ 0.00433047]\n",
            " [-0.008364  ]]\n",
            "[[0.30508772 0.60197715]]\n",
            "Epoch[33/100], loss: 0.021640\n",
            "[[ 0.00412624]\n",
            " [-0.00796954]]\n",
            "[[0.30302461 0.60596192]]\n",
            "Epoch[34/100], loss: 0.021596\n",
            "[[ 0.00393164]\n",
            " [-0.00759369]]\n",
            "[[0.30105879 0.60975876]]\n",
            "Epoch[35/100], loss: 0.021557\n",
            "[[ 0.00374622]\n",
            " [-0.00723556]]\n",
            "[[0.29918568 0.61337654]]\n",
            "Epoch[36/100], loss: 0.021521\n",
            "[[ 0.00356954]\n",
            " [-0.00689432]]\n",
            "[[0.2974009  0.61682371]]\n",
            "Epoch[37/100], loss: 0.021489\n",
            "[[ 0.0034012 ]\n",
            " [-0.00656918]]\n",
            "[[0.29570031 0.6201083 ]]\n",
            "Epoch[38/100], loss: 0.021460\n",
            "[[ 0.00324079]\n",
            " [-0.00625937]]\n",
            "[[0.29407991 0.62323798]]\n",
            "Epoch[39/100], loss: 0.021433\n",
            "[[ 0.00308796]\n",
            " [-0.00596417]]\n",
            "[[0.29253593 0.62622006]]\n",
            "Epoch[40/100], loss: 0.021409\n",
            "[[ 0.00294232]\n",
            " [-0.00568289]]\n",
            "[[0.29106477 0.62906151]]\n",
            "Epoch[41/100], loss: 0.021387\n",
            "[[ 0.00280356]\n",
            " [-0.00541488]]\n",
            "[[0.28966299 0.63176895]]\n",
            "Epoch[42/100], loss: 0.021367\n",
            "[[ 0.00267134]\n",
            " [-0.00515951]]\n",
            "[[0.28832732 0.6343487 ]]\n",
            "Epoch[43/100], loss: 0.021348\n",
            "[[ 0.00254536]\n",
            " [-0.00491618]]\n",
            "[[0.28705464 0.63680679]]\n",
            "Epoch[44/100], loss: 0.021332\n",
            "[[ 0.00242532]\n",
            " [-0.00468433]]\n",
            "[[0.28584198 0.63914896]]\n",
            "Epoch[45/100], loss: 0.021317\n",
            "[[ 0.00231093]\n",
            " [-0.00446341]]\n",
            "[[0.28468651 0.64138066]]\n",
            "Epoch[46/100], loss: 0.021303\n",
            "[[ 0.00220195]\n",
            " [-0.00425291]]\n",
            "[[0.28358554 0.64350712]]\n",
            "Epoch[47/100], loss: 0.021291\n",
            "[[ 0.0020981 ]\n",
            " [-0.00405234]]\n",
            "[[0.28253649 0.64553328]]\n",
            "Epoch[48/100], loss: 0.021280\n",
            "[[ 0.00199915]\n",
            " [-0.00386122]]\n",
            "[[0.28153691 0.6474639 ]]\n",
            "Epoch[49/100], loss: 0.021270\n",
            "[[ 0.00190487]\n",
            " [-0.00367912]]\n",
            "[[0.28058448 0.64930346]]\n",
            "Epoch[50/100], loss: 0.021260\n",
            "[[ 0.00181503]\n",
            " [-0.00350561]]\n",
            "[[0.27967696 0.65105626]]\n",
            "Epoch[51/100], loss: 0.021252\n",
            "[[ 0.00172944]\n",
            " [-0.00334028]]\n",
            "[[0.27881224 0.65272641]]\n",
            "Epoch[52/100], loss: 0.021244\n",
            "[[ 0.00164787]\n",
            " [-0.00318275]]\n",
            "[[0.27798831 0.65431778]]\n",
            "Epoch[53/100], loss: 0.021238\n",
            "[[ 0.00157016]\n",
            " [-0.00303265]]\n",
            "[[0.27720323 0.65583411]]\n",
            "Epoch[54/100], loss: 0.021231\n",
            "[[ 0.00149611]\n",
            " [-0.00288963]]\n",
            "[[0.27645517 0.65727892]]\n",
            "Epoch[55/100], loss: 0.021226\n",
            "[[ 0.00142555]\n",
            " [-0.00275335]]\n",
            "[[0.2757424  0.65865559]]\n",
            "Epoch[56/100], loss: 0.021220\n",
            "[[ 0.00135832]\n",
            " [-0.0026235 ]]\n",
            "[[0.27506324 0.65996734]]\n",
            "Epoch[57/100], loss: 0.021216\n",
            "[[ 0.00129426]\n",
            " [-0.00249977]]\n",
            "[[0.27441611 0.66121723]]\n",
            "Epoch[58/100], loss: 0.021211\n",
            "[[ 0.00123322]\n",
            " [-0.00238188]]\n",
            "[[0.2737995  0.66240817]]\n",
            "Epoch[59/100], loss: 0.021208\n",
            "[[ 0.00117506]\n",
            " [-0.00226955]]\n",
            "[[0.27321197 0.66354294]]\n",
            "Epoch[60/100], loss: 0.021204\n",
            "[[ 0.00111964]\n",
            " [-0.00216251]]\n",
            "[[0.27265215 0.6646242 ]]\n",
            "Epoch[61/100], loss: 0.021201\n",
            "[[ 0.00106684]\n",
            " [-0.00206052]]\n",
            "[[0.27211873 0.66565446]]\n",
            "Epoch[62/100], loss: 0.021198\n",
            "[[ 0.00101653]\n",
            " [-0.00196335]]\n",
            "[[0.27161047 0.66663613]]\n",
            "Epoch[63/100], loss: 0.021195\n",
            "[[ 0.00096858]\n",
            " [-0.00187075]]\n",
            "[[0.27112618 0.66757151]]\n",
            "Epoch[64/100], loss: 0.021193\n",
            "[[ 0.00092291]\n",
            " [-0.00178253]]\n",
            "[[0.27066472 0.66846277]]\n",
            "Epoch[65/100], loss: 0.021191\n",
            "[[ 0.00087938]\n",
            " [-0.00169846]]\n",
            "[[0.27022503 0.669312  ]]\n",
            "Epoch[66/100], loss: 0.021189\n",
            "[[ 0.00083791]\n",
            " [-0.00161836]]\n",
            "[[0.26980608 0.67012118]]\n",
            "Epoch[67/100], loss: 0.021187\n",
            "[[ 0.00079839]\n",
            " [-0.00154204]]\n",
            "[[0.26940688 0.6708922 ]]\n",
            "Epoch[68/100], loss: 0.021185\n",
            "[[ 0.00076074]\n",
            " [-0.00146931]]\n",
            "[[0.26902651 0.67162686]]\n",
            "Epoch[69/100], loss: 0.021184\n",
            "[[ 0.00072486]\n",
            " [-0.00140002]]\n",
            "[[0.26866408 0.67232687]]\n",
            "Epoch[70/100], loss: 0.021183\n",
            "[[ 0.00069068]\n",
            " [-0.00133399]]\n",
            "[[0.26831875 0.67299386]]\n",
            "Epoch[71/100], loss: 0.021181\n",
            "[[ 0.0006581 ]\n",
            " [-0.00127108]]\n",
            "[[0.2679897 0.6736294]]\n",
            "Epoch[72/100], loss: 0.021180\n",
            "[[ 0.00062707]\n",
            " [-0.00121113]]\n",
            "[[0.26767616 0.67423497]]\n",
            "Epoch[73/100], loss: 0.021179\n",
            "[[ 0.00059749]\n",
            " [-0.00115401]]\n",
            "[[0.26737742 0.67481197]]\n",
            "Epoch[74/100], loss: 0.021178\n",
            "[[ 0.00056931]\n",
            " [-0.00109959]]\n",
            "[[0.26709276 0.67536177]]\n",
            "Epoch[75/100], loss: 0.021178\n",
            "[[ 0.00054246]\n",
            " [-0.00104773]]\n",
            "[[0.26682153 0.67588563]]\n",
            "Epoch[76/100], loss: 0.021177\n",
            "[[ 0.00051688]\n",
            " [-0.00099832]]\n",
            "[[0.26656309 0.67638479]]\n",
            "Epoch[77/100], loss: 0.021176\n",
            "[[ 0.0004925 ]\n",
            " [-0.00095124]]\n",
            "[[0.26631684 0.67686041]]\n",
            "Epoch[78/100], loss: 0.021176\n",
            "[[ 0.00046928]\n",
            " [-0.00090638]]\n",
            "[[0.2660822 0.6773136]]\n",
            "Epoch[79/100], loss: 0.021175\n",
            "[[ 0.00044715]\n",
            " [-0.00086363]]\n",
            "[[0.26585862 0.67774542]]\n",
            "Epoch[80/100], loss: 0.021174\n",
            "[[ 0.00042606]\n",
            " [-0.0008229 ]]\n",
            "[[0.2656456  0.67815687]]\n",
            "Epoch[81/100], loss: 0.021174\n",
            "[[ 0.00040596]\n",
            " [-0.00078409]]\n",
            "[[0.26544261 0.67854891]]\n",
            "Epoch[82/100], loss: 0.021174\n",
            "[[ 0.00038682]\n",
            " [-0.00074711]]\n",
            "[[0.2652492  0.67892247]]\n",
            "Epoch[83/100], loss: 0.021173\n",
            "[[ 0.00036858]\n",
            " [-0.00071188]]\n",
            "[[0.26506492 0.67927841]]\n",
            "Epoch[84/100], loss: 0.021173\n",
            "[[ 0.00035119]\n",
            " [-0.00067831]]\n",
            "[[0.26488932 0.67961756]]\n",
            "Epoch[85/100], loss: 0.021173\n",
            "[[ 0.00033463]\n",
            " [-0.00064632]]\n",
            "[[0.264722   0.67994072]]\n",
            "Epoch[86/100], loss: 0.021172\n",
            "[[ 0.00031885]\n",
            " [-0.00061583]]\n",
            "[[0.26456258 0.68024863]]\n",
            "Epoch[87/100], loss: 0.021172\n",
            "[[ 0.00030381]\n",
            " [-0.00058679]]\n",
            "[[0.26441067 0.68054203]]\n",
            "Epoch[88/100], loss: 0.021172\n",
            "[[ 0.00028948]\n",
            " [-0.00055912]]\n",
            "[[0.26426593 0.68082159]]\n",
            "Epoch[89/100], loss: 0.021172\n",
            "[[ 0.00027583]\n",
            " [-0.00053275]]\n",
            "[[0.26412802 0.68108796]]\n",
            "Epoch[90/100], loss: 0.021171\n",
            "[[ 0.00026282]\n",
            " [-0.00050762]]\n",
            "[[0.2639966  0.68134177]]\n",
            "Epoch[91/100], loss: 0.021171\n",
            "[[ 0.00025043]\n",
            " [-0.00048368]]\n",
            "[[0.26387139 0.68158362]]\n",
            "Epoch[92/100], loss: 0.021171\n",
            "[[ 0.00023862]\n",
            " [-0.00046087]]\n",
            "[[0.26375208 0.68181405]]\n",
            "Epoch[93/100], loss: 0.021171\n",
            "[[ 0.00022736]\n",
            " [-0.00043914]]\n",
            "[[0.2636384  0.68203362]]\n",
            "Epoch[94/100], loss: 0.021171\n",
            "[[ 0.00021664]\n",
            " [-0.00041843]]\n",
            "[[0.26353008 0.68224283]]\n",
            "Epoch[95/100], loss: 0.021171\n",
            "[[ 0.00020642]\n",
            " [-0.00039869]]\n",
            "[[0.26342687 0.68244218]]\n",
            "Epoch[96/100], loss: 0.021170\n",
            "[[ 0.00019669]\n",
            " [-0.00037989]]\n",
            "[[0.26332852 0.68263213]]\n",
            "Epoch[97/100], loss: 0.021170\n",
            "[[ 0.00018741]\n",
            " [-0.00036197]]\n",
            "[[0.26323482 0.68281311]]\n",
            "Epoch[98/100], loss: 0.021170\n",
            "[[ 0.00017857]\n",
            " [-0.0003449 ]]\n",
            "[[0.26314553 0.68298557]]\n",
            "Epoch[99/100], loss: 0.021170\n",
            "[[ 0.00017015]\n",
            " [-0.00032864]]\n",
            "[[0.26306045 0.68314988]]\n",
            "Epoch[100/100], loss: 0.021170\n"
          ]
        }
      ],
      "source": [
        "num_epochs = 100\n",
        "learning_rate = 0.5\n",
        "losses = []\n",
        "for epoch in range(num_epochs):\n",
        "\n",
        "    # forward - predict\n",
        "    y_pred = model.forward(x_train_bias)\n",
        "\n",
        "    #loss cálculo da função de perda\n",
        "    loss = np.square(y_pred - y_train).mean()\n",
        "    losses.append(loss)\n",
        "\n",
        "    # cálculo do gradiente pelas derivadas parciais\n",
        "    w_grad = (2.0/n_samples) * (x_train_bias.T).dot(x_train_bias.dot(model.w.T) - y_train)\n",
        "    print(w_grad)\n",
        "\n",
        "    # gradiente descendente\n",
        "    model.w = model.w - learning_rate * w_grad.T\n",
        "    print(model.w)\n",
        "\n",
        "    # verbose\n",
        "    if (epoch+1) % 1 == 0:\n",
        "        print('Epoch[{}/{}], loss: {:.6f}'\n",
        "              .format(epoch+1, num_epochs, loss))"
      ]
    },
    {
      "cell_type": "markdown",
      "metadata": {
        "heading_collapsed": true,
        "id": "1QGlDZABf9Sd"
      },
      "source": [
        "## Avaliação"
      ]
    },
    {
      "cell_type": "markdown",
      "metadata": {
        "hidden": true,
        "id": "6TIimlCmf9Si"
      },
      "source": [
        "### Predict"
      ]
    },
    {
      "cell_type": "code",
      "execution_count": 12,
      "metadata": {
        "ExecuteTime": {
          "end_time": "2017-10-08T11:19:39.408412Z",
          "start_time": "2017-10-08T11:19:39.186021Z"
        },
        "colab": {
          "base_uri": "https://localhost:8080/",
          "height": 447
        },
        "hidden": true,
        "id": "ToXwbrlsf9Sk",
        "outputId": "6c241e82-7786-4f4f-ffbb-65aca82530cd"
      },
      "outputs": [
        {
          "output_type": "execute_result",
          "data": {
            "text/plain": [
              "[<matplotlib.lines.Line2D at 0x7b4b328c7610>]"
            ]
          },
          "metadata": {},
          "execution_count": 12
        },
        {
          "output_type": "display_data",
          "data": {
            "text/plain": [
              "<Figure size 640x480 with 1 Axes>"
            ],
            "image/png": "[encoded data removed]"
          },
          "metadata": {}
        }
      ],
      "source": [
        "y_pred = model.forward(x_train_bias)\n",
        "plt.plot(x_train, y_train, 'ro', label='Original data')\n",
        "plt.plot(x_train, y_pred, 'kx-', label='Fitting Line')"
      ]
    },
    {
      "cell_type": "markdown",
      "metadata": {
        "hidden": true,
        "id": "kQ1hGdItf9So"
      },
      "source": [
        "### Parâmetros treinados"
      ]
    },
    {
      "cell_type": "code",
      "execution_count": 13,
      "metadata": {
        "ExecuteTime": {
          "end_time": "2017-10-08T11:19:39.417569Z",
          "start_time": "2017-10-08T11:19:39.411060Z"
        },
        "colab": {
          "base_uri": "https://localhost:8080/"
        },
        "hidden": true,
        "id": "IcEOxTg9f9Sp",
        "outputId": "f56f15bd-6719-4b9c-ecb1-799f44f6df7e"
      },
      "outputs": [
        {
          "output_type": "stream",
          "name": "stdout",
          "text": [
            "[[0.26135445 0.68644492]]\n"
          ]
        }
      ],
      "source": [
        "print(model.w)"
      ]
    },
    {
      "cell_type": "markdown",
      "metadata": {
        "hidden": true,
        "id": "73n0qSOMf9Sr"
      },
      "source": [
        "### Avaliação do modelo"
      ]
    },
    {
      "cell_type": "code",
      "execution_count": 14,
      "metadata": {
        "colab": {
          "base_uri": "https://localhost:8080/"
        },
        "hidden": true,
        "id": "dI2TE8W6f9Ss",
        "outputId": "50556b51-f8ab-43fa-ff7e-252886764d1b"
      },
      "outputs": [
        {
          "output_type": "execute_result",
          "data": {
            "text/plain": [
              "0.02116942415600105"
            ]
          },
          "metadata": {},
          "execution_count": 14
        }
      ],
      "source": [
        "loss = np.square(y_pred - y_train).mean()\n",
        "loss"
      ]
    },
    {
      "cell_type": "markdown",
      "metadata": {
        "hidden": true,
        "id": "cv6q3ElSf9Sv"
      },
      "source": [
        "### Valor ótimo, solução analítica"
      ]
    },
    {
      "cell_type": "markdown",
      "metadata": {
        "hidden": true,
        "id": "qYgHOaNmf9Sv"
      },
      "source": [
        "$$  \\mathbf{w} =(\\mathbf{x^T} \\mathbf{x})^{−1}\\mathbf{x^T} \\mathbf{y} $$"
      ]
    },
    {
      "cell_type": "code",
      "execution_count": 15,
      "metadata": {
        "ExecuteTime": {
          "end_time": "2017-10-08T11:19:39.432480Z",
          "start_time": "2017-10-08T11:19:39.420006Z"
        },
        "colab": {
          "base_uri": "https://localhost:8080/"
        },
        "hidden": true,
        "id": "OmrggYvmf9Sw",
        "outputId": "4fc69e80-aaad-41cd-e239-f2fc67e5c5d7"
      },
      "outputs": [
        {
          "output_type": "stream",
          "name": "stdout",
          "text": [
            "[[0.26134159 0.68646976]]\n"
          ]
        }
      ],
      "source": [
        "x = x_train_bias\n",
        "y = y_train\n",
        "w_opt = (np.linalg.inv((x.T).dot(x)).dot(x.T)).dot(y)\n",
        "print(w_opt.T)"
      ]
    },
    {
      "cell_type": "code",
      "source": [
        "model.w"
      ],
      "metadata": {
        "colab": {
          "base_uri": "https://localhost:8080/"
        },
        "id": "AaqFuDizGqzz",
        "outputId": "5511f429-d72e-487a-9075-d80e041aade7"
      },
      "execution_count": 16,
      "outputs": [
        {
          "output_type": "execute_result",
          "data": {
            "text/plain": [
              "array([[0.26135445, 0.68644492]])"
            ]
          },
          "metadata": {},
          "execution_count": 16
        }
      ]
    },
    {
      "cell_type": "markdown",
      "metadata": {
        "heading_collapsed": true,
        "id": "2eMOcW8Ff9Sz"
      },
      "source": [
        "# Exercícios"
      ]
    },
    {
      "cell_type": "markdown",
      "metadata": {
        "hidden": true,
        "id": "tCKeOB1-f9S1"
      },
      "source": [
        "## Questões"
      ]
    },
    {
      "cell_type": "markdown",
      "source": [
        "# Respostas das Questões\n",
        "\n",
        "1 - dois, w0 e w1\n",
        "\n",
        "2 - dois, o bias e x\n",
        "\n",
        "3 - Uma\n",
        "\n",
        "4 - Entrada: [5000,2]\n",
        "    Saída: [5000,1]\n"
      ],
      "metadata": {
        "id": "9ff9oohBGwqA"
      }
    },
    {
      "cell_type": "markdown",
      "source": [
        "# Atividade 1"
      ],
      "metadata": {
        "id": "WYLCdybiIUEn"
      }
    },
    {
      "cell_type": "code",
      "source": [
        "print(losses)"
      ],
      "metadata": {
        "colab": {
          "base_uri": "https://localhost:8080/"
        },
        "id": "rBQ63wKMISTM",
        "outputId": "576787e5-1376-4ced-fd02-11f7a3974cd5"
      },
      "execution_count": 22,
      "outputs": [
        {
          "output_type": "stream",
          "name": "stdout",
          "text": [
            "[0.3398312818108879, 0.05068370223997065, 0.031015827060072002, 0.029003172448040945, 0.028209553508144164, 0.027556463693871557, 0.026967922014914967, 0.02643387098874793, 0.02594902380718811, 0.025508831381129093, 0.025109179947633623, 0.02474633568133725, 0.02441690870497431, 0.024117821347284824, 0.023846279385167923, 0.023599745938350677, 0.023375917768568746, 0.02317270376156602, 0.02298820539086344, 0.022820698980778986, 0.02266861960299079, 0.02253054645619729, 0.022405189592283686, 0.022291377864984138, 0.022188047988449925, 0.022094234603503463, 0.022009061258771955, 0.02193173222244208, 0.021861525048137057, 0.02179778382546271, 0.021739913052165816, 0.021687372070655467, 0.0216396700169105, 0.021596361234583333, 0.021557041111456354, 0.021521342299353027, 0.02148893128218829, 0.021459505260095105, 0.021432789320517297, 0.02140853386983948, 0.021386512301559232, 0.021366518879216215, 0.02134836681429973, 0.021331886521177342, 0.021316924032741488, 0.021303339561972036, 0.021291006195976327, 0.02127980871030568, 0.021269642492471236, 0.021260412564601962, 0.021252032696114052, 0.02124442459810189, 0.021237517191924068, 0.021231245945151345, 0.02122555226867251, 0.021220382969325744, 0.0212156897529416, 0.02121142877315483, 0.02120756022176975, 0.021204047956852327, 0.021200859165074148, 0.021197964055154013, 0.02119533557953293, 0.021192949181682335, 0.021190782566684795, 0.021188815492943755, 0.021187029583076486, 0.02118540815222341, 0.02118393605216981, 0.02118259952982371, 0.021181386098727596, 0.02118028442240373, 0.02117928420844312, 0.021178376112348723, 0.02117755165023448, 0.021176803119564633, 0.0211761235271928, 0.021175506524028536, 0.02117494634572092, 0.02117443775880518, 0.021173976011808995, 0.021173556790861938, 0.021173176179393082, 0.0211728306215405, 0.021172516888930598, 0.02117223205051706, 0.02117197344519755, 0.02117173865695234, 0.021171525492272705, 0.021171331959668013, 0.02117115625106028, 0.021170996724892154, 0.02117085189079073, 0.021170720395643668, 0.0211706010109578, 0.021170492621381935, 0.021170394214286667, 0.021170304870303882, 0.02117022375473759, 0.02117015010976577]\n"
          ]
        }
      ]
    },
    {
      "cell_type": "markdown",
      "source": [
        "# Atividade 2"
      ],
      "metadata": {
        "id": "KFVEpcEtIzYV"
      }
    },
    {
      "cell_type": "code",
      "source": [
        "model = Net(2,1)\n",
        "\n",
        "y_pred = model.forward(x_train_bias)\n",
        "loss = np.square(y_pred - y_train).mean()\n",
        "\n",
        "loss"
      ],
      "metadata": {
        "colab": {
          "base_uri": "https://localhost:8080/"
        },
        "id": "CCWIKa56I12j",
        "outputId": "01b095a4-06b6-44c1-d894-b2972ce18172"
      },
      "execution_count": 23,
      "outputs": [
        {
          "output_type": "execute_result",
          "data": {
            "text/plain": [
              "0.4323749322844236"
            ]
          },
          "metadata": {},
          "execution_count": 23
        }
      ]
    },
    {
      "cell_type": "markdown",
      "source": [
        "# Atividade 3"
      ],
      "metadata": {
        "id": "pfMT69xQI4ji"
      }
    },
    {
      "cell_type": "code",
      "source": [
        "model = Net(2,1)\n",
        "\n",
        "# solução ótima\n",
        "x = x_train_bias\n",
        "y = y_train\n",
        "w_opt = (np.linalg.inv((x.T).dot(x)).dot(x.T)).dot(y)\n",
        "\n",
        "model.w = w_opt.T\n",
        "\n",
        "y_pred = model.forward(x_train_bias)\n",
        "loss = np.square(y_pred - y_train).mean()\n",
        "\n",
        "loss"
      ],
      "metadata": {
        "colab": {
          "base_uri": "https://localhost:8080/"
        },
        "id": "AgCWltKQI68S",
        "outputId": "05b3e18d-7527-40ad-e494-f0958ff73892"
      },
      "execution_count": 24,
      "outputs": [
        {
          "output_type": "execute_result",
          "data": {
            "text/plain": [
              "0.021169424119097165"
            ]
          },
          "metadata": {},
          "execution_count": 24
        }
      ]
    },
    {
      "cell_type": "markdown",
      "metadata": {
        "hidden": true,
        "id": "c-KyP13vf9S2"
      },
      "source": [
        "1. Quantos parâmetros são treinados nesse modelo?\n",
        "\n",
        "2. Qual é o número de atributos de entrada para a rede?\n",
        "\n",
        "3. Qual é o número de saídas da rede?\n",
        "\n",
        "4. Suponha que eu tenha agora 5 mil amostras para fazer a predição. Qual é o shape da matriz de entrada?\n",
        "   Qual é o shape do matriz de saída?\n"
      ]
    },
    {
      "cell_type": "markdown",
      "metadata": {
        "hidden": true,
        "id": "oaj0t2gpf9S3"
      },
      "source": [
        "## Atividades"
      ]
    },
    {
      "cell_type": "markdown",
      "metadata": {
        "hidden": true,
        "id": "pR_fNYurf9S3"
      },
      "source": [
        "1. Modifique o laço do treinamento via gradiente descendente para guardar em uma lista, o valor da perda no final\n",
        "   de cada época. Após o treinamento, plote o valor da perda em função da época.\n",
        "2. Calcule o valor da perda (MSE) da rede com os parâmetros inicializados, sem serem treinados.\n",
        "3. Coloque os valores dos pesos da solução ótima analítica no modelo da rede e calcule o valor da perda (MSE) e\n",
        "   compare com o valor da perda obtida pelo método da otimização via gradiente descendente."
      ]
    },
    {
      "cell_type": "markdown",
      "metadata": {
        "collapsed": true,
        "id": "tgmMhSm2f9S4"
      },
      "source": [
        "# Aprendizados"
      ]
    },
    {
      "cell_type": "markdown",
      "source": [
        "Percebe-se que o valor de 100 épocas com o aprendizado de 0.5 chega a um resultado muito perto do ótimo, ou seja, o modelo tem um desempenho muito satisfatório e pode ser utilizado, pois sua previsão é muito confiável."
      ],
      "metadata": {
        "id": "oIuOL7QzJ3_w"
      }
    }
  ],
  "metadata": {
    "accelerator": "TPU",
    "colab": {
      "provenance": []
    },
    "kernelspec": {
      "display_name": "Python 3.10.2 64-bit",
      "language": "python",
      "name": "python3"
    },
    "language_info": {
      "name": "python",
      "version": "3.10.2"
    },
    "vscode": {
      "interpreter": {
        "hash": "5fe3e6f0cdaab8afdc61c52912fda83f7c0a71baaea1897dd7498e2df01e69ec"
      }
    }
  },
  "nbformat": 4,
  "nbformat_minor": 0
}